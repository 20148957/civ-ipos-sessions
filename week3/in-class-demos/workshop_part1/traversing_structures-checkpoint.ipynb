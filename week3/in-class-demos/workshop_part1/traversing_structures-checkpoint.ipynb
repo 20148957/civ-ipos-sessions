{
 "cells": [
  {
   "cell_type": "markdown",
   "id": "b4e3a8a6",
   "metadata": {
    "panel-layout": {
     "height": 68.59375,
     "visible": true,
     "width": 100
    }
   },
   "source": [
    "# Traversing Nested Data Structures in Python\n",
    "\n",
    "---\n"
   ]
  },
  {
   "cell_type": "markdown",
   "id": "4b482050",
   "metadata": {
    "panel-layout": {
     "height": 84.40625,
     "visible": true,
     "width": 100
    }
   },
   "source": [
    "## Traversing a 4D List\n",
    "Using nested `for` loops to access all elements in a 4D list."
   ]
  },
  {
   "cell_type": "code",
   "id": "23a2c078",
   "metadata": {
    "jupyter": {
     "is_executing": true
    }
   },
   "source": [
    "# Example of a 4D list (list of list of list of lists)\n",
    "data = [\n",
    "    [\n",
    "        [\n",
    "            [1, 2], [3, 4]\n",
    "        ],\n",
    "        [\n",
    "            [5, 6], [7, 8]\n",
    "        ]\n",
    "    ],\n",
    "    [\n",
    "        [\n",
    "            [9, 10], [11, 12]\n",
    "        ],\n",
    "        [\n",
    "            [13, 14], [15, 16]\n",
    "        ]\n",
    "    ]\n",
    "]\n",
    "\n",
    "# Traversing through the 4D list\n",
    "for i in range(len(data)):\n",
    "    for j in range(len(data[i])):\n",
    "        for k in range(len(data[i][j])):\n",
    "            for l in range(len(data[i][j][k])):\n",
    "                print(f\"data[{i}][{j}][{k}][{l}] = {data[i][j][k][l]}\")\n"
   ],
   "outputs": [],
   "execution_count": null
  },
  {
   "cell_type": "markdown",
   "id": "8f826a2f",
   "metadata": {
    "panel-layout": {
     "height": 84.40625,
     "visible": true,
     "width": 100
    }
   },
   "source": [
    "## Traversing a List of Dictionaries of Lists of Dictionaries\n",
    "Using loops to access elements dynamically."
   ]
  },
  {
   "cell_type": "code",
   "id": "e1171490",
   "metadata": {
    "jupyter": {
     "is_executing": true
    }
   },
   "source": [
    "# 4D structure: List of Dicts -> List -> Dict -> Values\n",
    "data = [\n",
    "    {\n",
    "        \"group1\": [\n",
    "            {\"id\": 1, \"value\": \"A\"},\n",
    "            {\"id\": 2, \"value\": \"B\"}\n",
    "        ],\n",
    "        \"group2\": [\n",
    "            {\"id\": 3, \"value\": \"C\"},\n",
    "            {\"id\": 4, \"value\": \"D\"}\n",
    "        ]\n",
    "    },\n",
    "    {\n",
    "        \"group3\": [\n",
    "            {\"id\": 5, \"value\": \"E\"},\n",
    "            {\"id\": 6, \"value\": \"F\"}\n",
    "        ],\n",
    "        \"group4\": [\n",
    "            {\"id\": 7, \"value\": \"G\"},\n",
    "            {\"id\": 8, \"value\": \"H\"}\n",
    "        ]\n",
    "    }\n",
    "]\n",
    "\n",
    "# Traversing the 4D structure\n",
    "for i, dictionary in enumerate(data):  # Loop through the list of dictionaries\n",
    "    for key, sublist in dictionary.items():  # Loop through dictionary keys and lists\n",
    "        for j, subdict in enumerate(sublist):  # Loop through the list of dictionaries\n",
    "            for sub_key, value in subdict.items():  # Loop through dictionary items\n",
    "                print(f\"data[{i}]['{key}'][{j}]['{sub_key}'] = {value}\")\n"
   ],
   "outputs": [],
   "execution_count": null
  },
  {
   "cell_type": "markdown",
   "id": "da787a1c",
   "metadata": {
    "panel-layout": {
     "height": 84.40625,
     "visible": true,
     "width": 100
    }
   },
   "source": [
    "## Recursive Traversal Function\n",
    "Handles unknown depth by checking data type dynamically."
   ]
  },
  {
   "cell_type": "code",
   "execution_count": null,
   "id": "9127e693-c92f-47d4-81e2-2425e02787ce",
   "metadata": {},
   "outputs": [],
   "source": [
    "# Assistant\n",
    "# Recursive function to traverse nested data structures (dictionaries and lists)\n",
    "def traverse(data, path=\"data\"):\n",
    "    # If current data is a dictionary, traverse through its key-value pairs\n",
    "    if isinstance(data, dict):\n",
    "        for key, value in data.items():\n",
    "            traverse(value, f\"{path}['{key}']\")\n",
    "    # If current data is a list, traverse through its indexed items\n",
    "    elif isinstance(data, list):\n",
    "        for index, item in enumerate(data):\n",
    "            traverse(item, f\"{path}[{index}]\")\n",
    "    else:\n",
    "        # Base case: reached a non-iterable item\n",
    "        print(f\"{path} = {data}\")\n",
    "\n",
    "# Sample nested data structure: List containing dictionaries of lists of dictionaries\n",
    "data = [\n",
    "    {\n",
    "        \"group1\": [\n",
    "            {\"id\": 1, \"value\": \"A\"},\n",
    "            {\"id\": 2, \"value\": \"B\"}\n",
    "        ],\n",
    "        \"group2\": [\n",
    "            {\"id\": 3, \"value\": \"C\"},\n",
    "            {\"id\": 4, \"value\": \"D\"}\n",
    "        ]\n",
    "    },\n",
    "    {\n",
    "        \"group3\": [\n",
    "            {\"id\": 5, \"value\": \"E\"},\n",
    "            {\"id\": 6, \"value\": \"F\"}\n",
    "        ],\n",
    "        \"group4\": [\n",
    "            {\"id\": 7, \"value\": \"G\"},\n",
    "            {\"id\": 8, \"value\": \"H\"}\n",
    "        ]\n",
    "    }\n",
    "]\n",
    "\n",
    "# Call traverse function with sample data\n",
    "traverse(data)"
   ]
  },
  {
   "cell_type": "code",
   "execution_count": null,
   "id": "269e7614-fb9e-43d2-900c-6cdfef95f750",
   "metadata": {},
   "outputs": [],
   "source": []
  },
  {
   "cell_type": "code",
   "execution_count": null,
   "id": "044cb2ee-06a5-487f-8247-3447e1a8a5db",
   "metadata": {},
   "outputs": [],
   "source": []
  },
  {
   "cell_type": "code",
   "execution_count": null,
   "id": "c73af1f6-f352-45be-afa8-c689c5757c2c",
   "metadata": {},
   "outputs": [],
   "source": []
  }
 ],
 "metadata": {
  "kernelspec": {
   "display_name": "Python [conda env:base] *",
   "language": "python",
   "name": "conda-base-py"
  },
  "language_info": {
   "codemirror_mode": {
    "name": "ipython",
    "version": 3
   },
   "file_extension": ".py",
   "mimetype": "text/x-python",
   "name": "python",
   "nbconvert_exporter": "python",
   "pygments_lexer": "ipython3",
   "version": "3.12.7"
  },
  "panel-cell-order": [
   "b4e3a8a6",
   "4b482050",
   "8f826a2f",
   "da787a1c",
   "5e79cf6c"
  ]
 },
 "nbformat": 4,
 "nbformat_minor": 5
}
